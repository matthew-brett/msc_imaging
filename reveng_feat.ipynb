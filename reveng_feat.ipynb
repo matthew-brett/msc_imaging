{
 "cells": [
  {
   "cell_type": "markdown",
   "metadata": {},
   "source": [
    "# Replicating an FSL analysis"
   ]
  },
  {
   "cell_type": "markdown",
   "metadata": {},
   "source": [
    "I start by running an FSL analysis on the `ds114_sub009_t2r1.nii` image.\n",
    "\n",
    "I chose the following options for simplicity of the model:\n",
    "\n",
    "* stats only (not preprocessing);\n",
    "* turn off FILM prewhitening;\n",
    "* use the `ds114_sub009_t2r1_cond.txt` 3 column file to define my events;\n",
    "* use the double gamma HRF;\n",
    "* turn off \"Add temporal derivative\";\n",
    "* turn off \"Apply temporal filtering\".\n",
    "\n",
    "See the file `ds114_sub009_t2r1_simple.fsf` for the analysis definition."
   ]
  },
  {
   "cell_type": "code",
   "execution_count": 1,
   "metadata": {
    "collapsed": true
   },
   "outputs": [],
   "source": [
    "# We will need these later\n",
    "from os import listdir  # To list the files in a directory\n",
    "from os.path import join as pjoin  # To build file paths"
   ]
  },
  {
   "cell_type": "code",
   "execution_count": 2,
   "metadata": {
    "collapsed": true
   },
   "outputs": [],
   "source": [
    "# Our standard imports\n",
    "import numpy as np  # The array library\n",
    "np.set_printoptions(precision=4, suppress=True)\n",
    "import numpy.linalg as npl  # The linear algebra part of numpy\n",
    "import matplotlib.pyplot as plt  # The plotting library"
   ]
  },
  {
   "cell_type": "code",
   "execution_count": 3,
   "metadata": {
    "collapsed": true
   },
   "outputs": [],
   "source": [
    "# Show plots in the web browser\n",
    "%matplotlib inline"
   ]
  },
  {
   "cell_type": "code",
   "execution_count": 4,
   "metadata": {
    "collapsed": true
   },
   "outputs": [],
   "source": [
    "# The library to load images\n",
    "# You might need to do \"pip install nibabel\" in the Terminal\n",
    "import nibabel as nib"
   ]
  },
  {
   "cell_type": "markdown",
   "metadata": {},
   "source": [
    "We investigate the FEAT output directory:"
   ]
  },
  {
   "cell_type": "code",
   "execution_count": 5,
   "metadata": {},
   "outputs": [
    {
     "data": {
      "text/plain": [
       "['.ramp.gif', 'design.mat', 'stats']"
      ]
     },
     "execution_count": 5,
     "metadata": {},
     "output_type": "execute_result"
    }
   ],
   "source": [
    "feat_dir = 'ds114_sub009_t2r1.feat'\n",
    "listdir(feat_dir)"
   ]
  },
  {
   "cell_type": "markdown",
   "metadata": {},
   "source": [
    "There is a `stats` subdirectory in the FEAT directory, with some interesting files:"
   ]
  },
  {
   "cell_type": "code",
   "execution_count": 6,
   "metadata": {},
   "outputs": [
    {
     "data": {
      "text/plain": [
       "['cope1.nii.gz',\n",
       " 'dof',\n",
       " 'pe1.nii.gz',\n",
       " 'sigmasquareds.nii.gz',\n",
       " 'tstat1.nii.gz',\n",
       " 'zstat1.nii.gz']"
      ]
     },
     "execution_count": 6,
     "metadata": {},
     "output_type": "execute_result"
    }
   ],
   "source": [
    "stats_dir = pjoin(feat_dir, 'stats')\n",
    "listdir(stats_dir)"
   ]
  },
  {
   "cell_type": "markdown",
   "metadata": {},
   "source": [
    "The `pe1.nii.gz` contains the Parameter Estimate for the regressor:"
   ]
  },
  {
   "cell_type": "code",
   "execution_count": 7,
   "metadata": {},
   "outputs": [
    {
     "data": {
      "text/plain": [
       "'ds114_sub009_t2r1.feat/stats/pe1.nii.gz'"
      ]
     },
     "execution_count": 7,
     "metadata": {},
     "output_type": "execute_result"
    }
   ],
   "source": [
    "pe_fname = pjoin(stats_dir, 'pe1.nii.gz')\n",
    "pe_fname"
   ]
  },
  {
   "cell_type": "markdown",
   "metadata": {},
   "source": [
    "It's an image, with one parameter estimate per voxel:"
   ]
  },
  {
   "cell_type": "code",
   "execution_count": 8,
   "metadata": {},
   "outputs": [
    {
     "data": {
      "text/plain": [
       "(64, 64, 30)"
      ]
     },
     "execution_count": 8,
     "metadata": {},
     "output_type": "execute_result"
    }
   ],
   "source": [
    "pe_img = nib.load(pe_fname)\n",
    "pe_data = pe_img.get_fdata()\n",
    "pe_data.shape"
   ]
  },
  {
   "cell_type": "markdown",
   "metadata": {},
   "source": [
    "Here's the 15th slab in the Parameter Estimate volume:"
   ]
  },
  {
   "cell_type": "code",
   "execution_count": 9,
   "metadata": {},
   "outputs": [
    {
     "data": {
      "text/plain": [
       "<matplotlib.image.AxesImage at 0x108485e80>"
      ]
     },
     "execution_count": 9,
     "metadata": {},
     "output_type": "execute_result"
    },
    {
     "data": {
      "image/png": "[encoded data removed]",
      "text/plain": [
       "<matplotlib.figure.Figure at 0x10840e470>"
      ]
     },
     "metadata": {},
     "output_type": "display_data"
    }
   ],
   "source": [
    "plt.imshow(pe_data[:, :, 14], cmap='gray')"
   ]
  },
  {
   "cell_type": "markdown",
   "metadata": {},
   "source": [
    "Compare this image to the [first_activation notebook](https://github.com/matthew-brett/msc_imaging/blob/master/first_activation.ipynb) estimate we found."
   ]
  },
  {
   "cell_type": "markdown",
   "metadata": {},
   "source": [
    "The design matrix:"
   ]
  },
  {
   "cell_type": "code",
   "execution_count": 10,
   "metadata": {},
   "outputs": [
    {
     "data": {
      "text/plain": [
       "'ds114_sub009_t2r1.feat/design.mat'"
      ]
     },
     "execution_count": 10,
     "metadata": {},
     "output_type": "execute_result"
    }
   ],
   "source": [
    "design_fname = pjoin(feat_dir, 'design.mat')\n",
    "design_fname"
   ]
  },
  {
   "cell_type": "code",
   "execution_count": 11,
   "metadata": {},
   "outputs": [
    {
     "name": "stdout",
     "output_type": "stream",
     "text": [
      "/NumWaves\t1\n",
      "/NumPoints\t173\n",
      "/PPheights\t\t1.280507e+00\n",
      "\n",
      "/Matrix\n",
      "-4.855490e-01\t\n",
      "-4.855491e-01\t\n",
      "-4.855491e-01\t\n",
      "-4.855491e-01\t\n",
      "-4.831242e-01\t\n",
      "-2.687152e-01\t\n",
      "2.311866e-01\t\n",
      "5.548245e-01\t\n",
      "6.547042e-01\t\n",
      "6.450099e-01\t\n",
      "6.010161e-01\t\n",
      "5.601737e-01\t\n",
      "5.345309e-01\t\n",
      "5.219966e-01\t\n",
      "5.169302e-01\t\n",
      "5.151719e-01\t\n",
      "5.122089e-01\t\n",
      "2.976517e-01\t\n",
      "-2.022853e-01\t\n",
      "-5.259232e-01\t\n",
      "-6.258029e-01\t\n",
      "-6.161086e-01\t\n",
      "-5.721148e-01\t\n",
      "-5.312724e-01\t\n",
      "-5.056295e-01\t\n",
      "-4.930953e-01\t\n",
      "-4.880289e-01\t\n",
      "-4.862706e-01\t\n",
      "-4.833076e-01\t\n",
      "-2.687504e-01\t\n",
      "2.311866e-01\t\n",
      "5.548245e-01\t\n",
      "6.547042e-01\t\n",
      "6.450099e-01\t\n",
      "6.010161e-01\t\n",
      "5.601737e-01\t\n",
      "5.345309e-01\t\n",
      "5.219966e-01\t\n",
      "5.169302e-01\t\n",
      "5.151719e-01\t\n",
      "5.122089e-01\t\n",
      "2.976517e-01\t\n",
      "-2.022853e-01\t\n",
      "-5.259232e-01\t\n",
      "-6.258029e-01\t\n",
      "-6.161086e-01\t\n",
      "-5.721148e-01\t\n",
      "-5.312724e-01\t\n",
      "-5.056295e-01\t\n",
      "-4.930953e-01\t\n",
      "-4.880289e-01\t\n",
      "-4.862706e-01\t\n",
      "-4.833076e-01\t\n",
      "-2.687504e-01\t\n",
      "2.311866e-01\t\n",
      "5.548245e-01\t\n",
      "6.547042e-01\t\n",
      "6.450099e-01\t\n",
      "6.010161e-01\t\n",
      "5.601737e-01\t\n",
      "5.345309e-01\t\n",
      "5.219966e-01\t\n",
      "5.169302e-01\t\n",
      "5.151719e-01\t\n",
      "5.122089e-01\t\n",
      "2.976517e-01\t\n",
      "-2.022853e-01\t\n",
      "-5.259232e-01\t\n",
      "-6.258029e-01\t\n",
      "-6.161086e-01\t\n",
      "-5.721148e-01\t\n",
      "-5.312724e-01\t\n",
      "-5.056295e-01\t\n",
      "-4.930953e-01\t\n",
      "-4.880289e-01\t\n",
      "-4.862706e-01\t\n",
      "-4.833076e-01\t\n",
      "-2.687504e-01\t\n",
      "2.311866e-01\t\n",
      "5.548245e-01\t\n",
      "6.547042e-01\t\n",
      "6.450099e-01\t\n",
      "6.010161e-01\t\n",
      "5.601737e-01\t\n",
      "5.345309e-01\t\n",
      "5.219966e-01\t\n",
      "5.169302e-01\t\n",
      "5.151719e-01\t\n",
      "5.122089e-01\t\n",
      "2.976517e-01\t\n",
      "-2.022853e-01\t\n",
      "-5.259232e-01\t\n",
      "-6.258029e-01\t\n",
      "-6.161086e-01\t\n",
      "-5.721148e-01\t\n",
      "-5.312724e-01\t\n",
      "-5.056295e-01\t\n",
      "-4.930953e-01\t\n",
      "-4.880289e-01\t\n",
      "-4.862706e-01\t\n",
      "-4.833076e-01\t\n",
      "-2.687504e-01\t\n",
      "2.311866e-01\t\n",
      "5.548245e-01\t\n",
      "6.547042e-01\t\n",
      "6.450099e-01\t\n",
      "6.010161e-01\t\n",
      "5.601737e-01\t\n",
      "5.345309e-01\t\n",
      "5.219966e-01\t\n",
      "5.169302e-01\t\n",
      "5.151719e-01\t\n",
      "5.122089e-01\t\n",
      "2.976517e-01\t\n",
      "-2.022853e-01\t\n",
      "-5.259232e-01\t\n",
      "-6.258029e-01\t\n",
      "-6.161086e-01\t\n",
      "-5.721148e-01\t\n",
      "-5.312724e-01\t\n",
      "-5.056295e-01\t\n",
      "-4.930953e-01\t\n",
      "-4.880289e-01\t\n",
      "-4.862706e-01\t\n",
      "-4.833076e-01\t\n",
      "-2.687504e-01\t\n",
      "2.311866e-01\t\n",
      "5.548245e-01\t\n",
      "6.547042e-01\t\n",
      "6.450099e-01\t\n",
      "6.010161e-01\t\n",
      "5.601737e-01\t\n",
      "5.345309e-01\t\n",
      "5.219966e-01\t\n",
      "5.169302e-01\t\n",
      "5.151719e-01\t\n",
      "5.122089e-01\t\n",
      "2.976517e-01\t\n",
      "-2.022853e-01\t\n",
      "-5.259232e-01\t\n",
      "-6.258029e-01\t\n",
      "-6.161086e-01\t\n",
      "-5.721148e-01\t\n",
      "-5.312724e-01\t\n",
      "-5.056295e-01\t\n",
      "-4.930953e-01\t\n",
      "-4.880289e-01\t\n",
      "-4.862706e-01\t\n",
      "-4.833076e-01\t\n",
      "-2.687504e-01\t\n",
      "2.311866e-01\t\n",
      "5.548245e-01\t\n",
      "6.547042e-01\t\n",
      "6.450099e-01\t\n",
      "6.010161e-01\t\n",
      "5.601737e-01\t\n",
      "5.345309e-01\t\n",
      "5.219966e-01\t\n",
      "5.169302e-01\t\n",
      "5.151719e-01\t\n",
      "5.122089e-01\t\n",
      "2.976517e-01\t\n",
      "-2.022853e-01\t\n",
      "-5.259232e-01\t\n",
      "-6.258029e-01\t\n",
      "-6.161086e-01\t\n",
      "-5.721148e-01\t\n",
      "-5.312724e-01\t\n",
      "-5.056295e-01\t\n",
      "-4.930953e-01\t\n",
      "-4.880289e-01\t\n",
      "-4.862706e-01\t\n",
      "-4.857324e-01\t\n",
      "\n"
     ]
    }
   ],
   "source": [
    "# Read contents of the design file\n",
    "with open(design_fname, 'rt') as fobj:\n",
    "    design = fobj.read()\n",
    "print(design)"
   ]
  },
  {
   "cell_type": "code",
   "execution_count": 12,
   "metadata": {},
   "outputs": [
    {
     "data": {
      "text/plain": [
       "array([-0.4855, -0.4855, -0.4855, -0.4855, -0.4831, -0.2687,  0.2312,\n",
       "        0.5548,  0.6547,  0.645 ,  0.601 ,  0.5602,  0.5345,  0.522 ,\n",
       "        0.5169,  0.5152,  0.5122,  0.2977, -0.2023, -0.5259, -0.6258,\n",
       "       -0.6161, -0.5721, -0.5313, -0.5056, -0.4931, -0.488 , -0.4863,\n",
       "       -0.4833, -0.2688,  0.2312,  0.5548,  0.6547,  0.645 ,  0.601 ,\n",
       "        0.5602,  0.5345,  0.522 ,  0.5169,  0.5152,  0.5122,  0.2977,\n",
       "       -0.2023, -0.5259, -0.6258, -0.6161, -0.5721, -0.5313, -0.5056,\n",
       "       -0.4931, -0.488 , -0.4863, -0.4833, -0.2688,  0.2312,  0.5548,\n",
       "        0.6547,  0.645 ,  0.601 ,  0.5602,  0.5345,  0.522 ,  0.5169,\n",
       "        0.5152,  0.5122,  0.2977, -0.2023, -0.5259, -0.6258, -0.6161,\n",
       "       -0.5721, -0.5313, -0.5056, -0.4931, -0.488 , -0.4863, -0.4833,\n",
       "       -0.2688,  0.2312,  0.5548,  0.6547,  0.645 ,  0.601 ,  0.5602,\n",
       "        0.5345,  0.522 ,  0.5169,  0.5152,  0.5122,  0.2977, -0.2023,\n",
       "       -0.5259, -0.6258, -0.6161, -0.5721, -0.5313, -0.5056, -0.4931,\n",
       "       -0.488 , -0.4863, -0.4833, -0.2688,  0.2312,  0.5548,  0.6547,\n",
       "        0.645 ,  0.601 ,  0.5602,  0.5345,  0.522 ,  0.5169,  0.5152,\n",
       "        0.5122,  0.2977, -0.2023, -0.5259, -0.6258, -0.6161, -0.5721,\n",
       "       -0.5313, -0.5056, -0.4931, -0.488 , -0.4863, -0.4833, -0.2688,\n",
       "        0.2312,  0.5548,  0.6547,  0.645 ,  0.601 ,  0.5602,  0.5345,\n",
       "        0.522 ,  0.5169,  0.5152,  0.5122,  0.2977, -0.2023, -0.5259,\n",
       "       -0.6258, -0.6161, -0.5721, -0.5313, -0.5056, -0.4931, -0.488 ,\n",
       "       -0.4863, -0.4833, -0.2688,  0.2312,  0.5548,  0.6547,  0.645 ,\n",
       "        0.601 ,  0.5602,  0.5345,  0.522 ,  0.5169,  0.5152,  0.5122,\n",
       "        0.2977, -0.2023, -0.5259, -0.6258, -0.6161, -0.5721, -0.5313,\n",
       "       -0.5056, -0.4931, -0.488 , -0.4863, -0.4857])"
      ]
     },
     "execution_count": 12,
     "metadata": {},
     "output_type": "execute_result"
    }
   ],
   "source": [
    "regressor = np.loadtxt(design_fname, comments='/')\n",
    "regressor"
   ]
  },
  {
   "cell_type": "code",
   "execution_count": 13,
   "metadata": {},
   "outputs": [
    {
     "data": {
      "text/plain": [
       "[<matplotlib.lines.Line2D at 0x108708630>]"
      ]
     },
     "execution_count": 13,
     "metadata": {},
     "output_type": "execute_result"
    },
    {
     "data": {
      "image/png": "[encoded data removed]",
      "text/plain": [
       "<matplotlib.figure.Figure at 0x10840e208>"
      ]
     },
     "metadata": {},
     "output_type": "display_data"
    }
   ],
   "source": [
    "plt.plot(regressor)"
   ]
  },
  {
   "cell_type": "markdown",
   "metadata": {},
   "source": [
    "Remember the [all_one_voxel notebook](https://nbviewer.jupyter.org/github/matthew-brett/msc_imaging/blob/master/all_one_voxel.ipynb)?"
   ]
  },
  {
   "cell_type": "code",
   "execution_count": 14,
   "metadata": {},
   "outputs": [
    {
     "data": {
      "text/plain": [
       "[<matplotlib.lines.Line2D at 0x1087c1f60>]"
      ]
     },
     "execution_count": 14,
     "metadata": {},
     "output_type": "execute_result"
    },
    {
     "data": {
      "image/png": "[encoded data removed]",
      "text/plain": [
       "<matplotlib.figure.Figure at 0x1086c2710>"
      ]
     },
     "metadata": {},
     "output_type": "display_data"
    }
   ],
   "source": [
    "img = nib.load('ds114_sub009_t2r1.nii')\n",
    "data = img.get_fdata()\n",
    "voxel_time_course = data[42, 32, 19]\n",
    "plt.plot(voxel_time_course)"
   ]
  },
  {
   "cell_type": "markdown",
   "metadata": {},
   "source": [
    "Let's do our own regression:"
   ]
  },
  {
   "cell_type": "code",
   "execution_count": 15,
   "metadata": {},
   "outputs": [
    {
     "data": {
      "text/plain": [
       "173"
      ]
     },
     "execution_count": 15,
     "metadata": {},
     "output_type": "execute_result"
    }
   ],
   "source": [
    "N = data.shape[-1]\n",
    "N"
   ]
  },
  {
   "cell_type": "code",
   "execution_count": 16,
   "metadata": {
    "scrolled": true
   },
   "outputs": [
    {
     "data": {
      "text/plain": [
       "<matplotlib.image.AxesImage at 0x108a3e9e8>"
      ]
     },
     "execution_count": 16,
     "metadata": {},
     "output_type": "execute_result"
    },
    {
     "data": {
      "image/png": "[encoded data removed]",
      "text/plain": [
       "<matplotlib.figure.Figure at 0x1087d7710>"
      ]
     },
     "metadata": {},
     "output_type": "display_data"
    }
   ],
   "source": [
    "X = np.ones((N, 2))\n",
    "X[:, 0] = regressor\n",
    "plt.imshow(X, cmap='gray', aspect=0.1)"
   ]
  },
  {
   "cell_type": "code",
   "execution_count": 17,
   "metadata": {},
   "outputs": [
    {
     "data": {
      "text/plain": [
       "array([   27.6368,  2044.7919])"
      ]
     },
     "execution_count": 17,
     "metadata": {},
     "output_type": "execute_result"
    }
   ],
   "source": [
    "y = voxel_time_course\n",
    "B = npl.pinv(X).dot(y)\n",
    "B"
   ]
  },
  {
   "cell_type": "markdown",
   "metadata": {},
   "source": [
    "What does FSL get for this voxel?"
   ]
  },
  {
   "cell_type": "code",
   "execution_count": 18,
   "metadata": {},
   "outputs": [
    {
     "data": {
      "text/plain": [
       "27.636846542358398"
      ]
     },
     "execution_count": 18,
     "metadata": {},
     "output_type": "execute_result"
    }
   ],
   "source": [
    "pe_data[42, 32, 19]"
   ]
  },
  {
   "cell_type": "markdown",
   "metadata": {},
   "source": [
    "Remember our contrast, to select the slope of the regressor?"
   ]
  },
  {
   "cell_type": "code",
   "execution_count": 19,
   "metadata": {
    "collapsed": true
   },
   "outputs": [],
   "source": [
    "c = np.array([1, 0])"
   ]
  },
  {
   "cell_type": "markdown",
   "metadata": {},
   "source": [
    "FSL has Contrast Of Parameter Estimate (COPE) files:"
   ]
  },
  {
   "cell_type": "code",
   "execution_count": 20,
   "metadata": {},
   "outputs": [
    {
     "data": {
      "text/plain": [
       "27.636846542358398"
      ]
     },
     "execution_count": 20,
     "metadata": {},
     "output_type": "execute_result"
    }
   ],
   "source": [
    "cope_fname = pjoin(stats_dir, 'cope1.nii.gz')\n",
    "cope_img = nib.load(cope_fname)\n",
    "cope_data = cope_img.get_fdata()\n",
    "cope_data[42, 32, 19]"
   ]
  },
  {
   "cell_type": "markdown",
   "metadata": {},
   "source": [
    "FSL also has a \"sigmasquared\" file:"
   ]
  },
  {
   "cell_type": "code",
   "execution_count": 21,
   "metadata": {},
   "outputs": [
    {
     "data": {
      "text/plain": [
       "600.3792724609375"
      ]
     },
     "execution_count": 21,
     "metadata": {},
     "output_type": "execute_result"
    }
   ],
   "source": [
    "ss_fname = pjoin(stats_dir, 'sigmasquareds.nii.gz')\n",
    "ss_img = nib.load(ss_fname)\n",
    "ss_data = ss_img.get_fdata()\n",
    "ss_data[42, 32, 19]"
   ]
  },
  {
   "cell_type": "markdown",
   "metadata": {},
   "source": [
    "Remember the fitted data, and the residuals?"
   ]
  },
  {
   "cell_type": "code",
   "execution_count": 22,
   "metadata": {},
   "outputs": [],
   "source": [
    "fitted = X.dot(B)\n",
    "residuals = y - fitted"
   ]
  },
  {
   "cell_type": "markdown",
   "metadata": {},
   "source": [
    "We can calculate the variance with the degrees of freedom and the residuals:"
   ]
  },
  {
   "cell_type": "code",
   "execution_count": 23,
   "metadata": {},
   "outputs": [
    {
     "data": {
      "text/plain": [
       "171"
      ]
     },
     "execution_count": 23,
     "metadata": {},
     "output_type": "execute_result"
    }
   ],
   "source": [
    "# Degrees of freedom\n",
    "df = N - npl.matrix_rank(X)\n",
    "df"
   ]
  },
  {
   "cell_type": "code",
   "execution_count": 24,
   "metadata": {},
   "outputs": [
    {
     "data": {
      "text/plain": [
       "603.89025485586683"
      ]
     },
     "execution_count": 24,
     "metadata": {},
     "output_type": "execute_result"
    }
   ],
   "source": [
    "variance = np.sum(residuals ** 2) / df\n",
    "variance"
   ]
  },
  {
   "cell_type": "markdown",
   "metadata": {},
   "source": [
    "Oops - that is not the same as FSL.  It turns out FSL has given the data an extra degree of freedom:"
   ]
  },
  {
   "cell_type": "code",
   "execution_count": 25,
   "metadata": {},
   "outputs": [
    {
     "name": "stdout",
     "output_type": "stream",
     "text": [
      "172  \n",
      "\n"
     ]
    }
   ],
   "source": [
    "# This file has the degrees of freedom\n",
    "dof_fname = pjoin(stats_dir, 'dof')\n",
    "with open(dof_fname, 'rt') as fobj:\n",
    "    print(fobj.read())"
   ]
  },
  {
   "cell_type": "code",
   "execution_count": 26,
   "metadata": {},
   "outputs": [
    {
     "data": {
      "text/plain": [
       "600.37926500205367"
      ]
     },
     "execution_count": 26,
     "metadata": {},
     "output_type": "execute_result"
    }
   ],
   "source": [
    "fsl_df = df + 1\n",
    "fsl_variance = np.sum(residuals ** 2) / fsl_df\n",
    "fsl_variance"
   ]
  },
  {
   "cell_type": "markdown",
   "metadata": {},
   "source": [
    "Now let's do a t-test."
   ]
  },
  {
   "cell_type": "code",
   "execution_count": 27,
   "metadata": {},
   "outputs": [
    {
     "data": {
      "text/plain": [
       "27.636845673434607"
      ]
     },
     "execution_count": 27,
     "metadata": {},
     "output_type": "execute_result"
    }
   ],
   "source": [
    "# Top of t - same as COPE\n",
    "c = np.array([1, 0])\n",
    "top_of_t = c.dot(B)\n",
    "top_of_t"
   ]
  },
  {
   "cell_type": "code",
   "execution_count": 28,
   "metadata": {},
   "outputs": [
    {
     "data": {
      "text/plain": [
       "3.6412936068015518"
      ]
     },
     "execution_count": 28,
     "metadata": {},
     "output_type": "execute_result"
    }
   ],
   "source": [
    "# Bottom of t - the standard error of the top part\n",
    "design_part = c.dot(npl.inv(X.T.dot(X))).dot(c)\n",
    "bottom_of_t = np.sqrt(fsl_variance * design_part)\n",
    "bottom_of_t"
   ]
  },
  {
   "cell_type": "code",
   "execution_count": 29,
   "metadata": {},
   "outputs": [
    {
     "data": {
      "text/plain": [
       "7.5898426926661173"
      ]
     },
     "execution_count": 29,
     "metadata": {},
     "output_type": "execute_result"
    }
   ],
   "source": [
    "t = top_of_t / bottom_of_t\n",
    "t"
   ]
  },
  {
   "cell_type": "markdown",
   "metadata": {},
   "source": [
    "What does FSL get?"
   ]
  },
  {
   "cell_type": "code",
   "execution_count": 30,
   "metadata": {},
   "outputs": [
    {
     "data": {
      "text/plain": [
       "7.5898427963256836"
      ]
     },
     "execution_count": 30,
     "metadata": {},
     "output_type": "execute_result"
    }
   ],
   "source": [
    "t_fname = pjoin(stats_dir, 'tstat1.nii.gz')\n",
    "t_img = nib.load(t_fname)\n",
    "t_data = t_img.get_fdata()\n",
    "t_data[42, 32, 19]"
   ]
  },
  {
   "cell_type": "markdown",
   "metadata": {},
   "source": [
    "Finally, the z value.  From FSL:"
   ]
  },
  {
   "cell_type": "code",
   "execution_count": 31,
   "metadata": {},
   "outputs": [
    {
     "data": {
      "text/plain": [
       "7.0388059616088867"
      ]
     },
     "execution_count": 31,
     "metadata": {},
     "output_type": "execute_result"
    }
   ],
   "source": [
    "p_fname = pjoin(stats_dir, 'zstat1.nii.gz')\n",
    "p_img = nib.load(p_fname)\n",
    "p_data = p_img.get_fdata()\n",
    "p_data[42, 32, 19]"
   ]
  },
  {
   "cell_type": "markdown",
   "metadata": {},
   "source": [
    "This comes about from the p value for the t statistic, transformed back to a Z score:"
   ]
  },
  {
   "cell_type": "code",
   "execution_count": 32,
   "metadata": {},
   "outputs": [
    {
     "data": {
      "text/plain": [
       "9.6950040188510654e-13"
      ]
     },
     "execution_count": 32,
     "metadata": {},
     "output_type": "execute_result"
    }
   ],
   "source": [
    "# Get p value from t distribution\n",
    "from scipy.stats import t as t_distribution  # t distribution\n",
    "p = t_distribution(fsl_df).sf(t)  # Survival function (1-cdf)\n",
    "p"
   ]
  },
  {
   "cell_type": "code",
   "execution_count": 33,
   "metadata": {},
   "outputs": [
    {
     "data": {
      "text/plain": [
       "7.0388017026662419"
      ]
     },
     "execution_count": 33,
     "metadata": {},
     "output_type": "execute_result"
    }
   ],
   "source": [
    "# Get matching z score from p value\n",
    "from scipy.stats import norm  # Normal distribution\n",
    "norm().isf(p)  # The Inverse Survival Function"
   ]
  }
 ],
 "metadata": {
  "kernelspec": {
   "display_name": "Python 3",
   "language": "python",
   "name": "python3"
  },
  "language_info": {
   "codemirror_mode": {
    "name": "ipython",
    "version": 3
   },
   "file_extension": ".py",
   "mimetype": "text/x-python",
   "name": "python",
   "nbconvert_exporter": "python",
   "pygments_lexer": "ipython3",
   "version": "3.5.1"
  }
 },
 "nbformat": 4,
 "nbformat_minor": 2
}
