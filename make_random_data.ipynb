{
 "cells": [
  {
   "cell_type": "code",
   "execution_count": 1,
   "metadata": {
    "collapsed": true
   },
   "outputs": [],
   "source": [
    "# Import numerical and plotting libraries\n",
    "import numpy as np\n",
    "import numpy.linalg as npl\n",
    "import matplotlib.pyplot as plt\n",
    "# Only show 3 decimals when printing\n",
    "np.set_printoptions(precision=3)"
   ]
  },
  {
   "cell_type": "code",
   "execution_count": 2,
   "metadata": {
    "collapsed": true
   },
   "outputs": [],
   "source": [
    "%matplotlib inline"
   ]
  },
  {
   "cell_type": "code",
   "execution_count": 3,
   "metadata": {
    "collapsed": true
   },
   "outputs": [],
   "source": [
    "student_means = [9.2, 8.9, 9.0, 9.25]\n",
    "sd = 0.05\n",
    "n_per_student = 40"
   ]
  },
  {
   "cell_type": "code",
   "execution_count": 4,
   "metadata": {
    "collapsed": true
   },
   "outputs": [],
   "source": [
    "np.random.seed(42)"
   ]
  },
  {
   "cell_type": "code",
   "execution_count": 5,
   "metadata": {},
   "outputs": [],
   "source": [
    "from textwrap import TextWrapper\n",
    "\n",
    "def show_distributions(ds):\n",
    "    names = ['brum_0', 'brum_1', 'cam_0', 'cam_1']\n",
    "    for d, name in zip(ds, names):\n",
    "        rep = repr_distribution(d)\n",
    "        prefix = name + ' = '\n",
    "        wrapper = TextWrapper(initial_indent=prefix,\n",
    "                              subsequent_indent=' ' * (len(prefix) + 1),\n",
    "                              width = 78)\n",
    "        print(wrapper.fill(rep))\n",
    "    \n",
    "def repr_distribution(d):\n",
    "    rep = (repr(d).replace('. ', '.0')\n",
    "           .replace('\\n', ' ')\n",
    "           .replace(' ', '')\n",
    "           .replace(',', ', ')\n",
    "           .replace(r'array([', '[')\n",
    "           .replace(r'])', ']'))\n",
    "    return(rep)"
   ]
  },
  {
   "cell_type": "code",
   "execution_count": 6,
   "metadata": {},
   "outputs": [],
   "source": [
    "student_distributions = []\n",
    "for st_mean in student_means:\n",
    "    distribution = np.random.normal(st_mean, sd, size=n_per_student)\n",
    "    distribution = np.round(distribution, 2)\n",
    "    student_distributions.append(distribution)"
   ]
  },
  {
   "cell_type": "code",
   "execution_count": 7,
   "metadata": {},
   "outputs": [
    {
     "name": "stdout",
     "output_type": "stream",
     "text": [
      "brum_0 = [9.22, 9.19, 9.23, 9.28, 9.19, 9.19, 9.28, 9.24, 9.18, 9.23, 9.18,\n",
      "          9.18, 9.21, 9.1, 9.11, 9.17, 9.15, 9.22, 9.15, 9.13, 9.27, 9.19,\n",
      "          9.2, 9.13, 9.17, 9.21, 9.14, 9.22, 9.17, 9.19, 9.17, 9.29, 9.2,\n",
      "          9.15, 9.24, 9.14, 9.21, 9.1, 9.13, 9.21]\n",
      "brum_1 = [8.94, 8.91, 8.89, 8.88, 8.83, 8.86, 8.88, 8.95, 8.92, 8.81, 8.92,\n",
      "          8.88, 8.87, 8.93, 8.95, 8.95, 8.86, 8.88, 8.92, 8.95, 8.88, 8.89,\n",
      "          8.84, 8.84, 8.94, 8.97, 8.9, 8.95, 8.92, 8.87, 8.92, 8.98, 8.9,\n",
      "          8.98, 8.77, 8.94, 8.9, 8.89, 8.9, 8.8]\n",
      "cam_0 = [8.99, 9.02, 9.07, 8.97, 8.96, 8.97, 9.05, 9.02, 8.97, 9.03, 9.0,\n",
      "         9.05, 8.96, 8.98, 8.98, 8.93, 9.01, 9.01, 9.0, 8.99, 8.93, 8.98,\n",
      "         8.98, 8.96, 8.99, 9.02, 9.09, 9.01, 9.01, 9.0, 8.9, 9.0, 9.0, 9.12,\n",
      "         8.99, 9.02, 9.0, 8.94, 9.06, 9.04]\n",
      "cam_1 = [9.29, 9.2, 9.32, 9.18, 9.28, 9.36, 9.2, 9.22, 9.25, 9.22, 9.17, 9.25,\n",
      "         9.2, 9.27, 9.2, 9.33, 9.21, 9.23, 9.29, 9.19, 9.26, 9.32, 9.17, 9.26,\n",
      "         9.26, 9.29, 9.19, 9.18, 9.28, 9.26, 9.26, 9.27, 9.22, 9.26, 9.26,\n",
      "         9.21, 9.34, 9.27, 9.19, 9.28]\n"
     ]
    }
   ],
   "source": [
    "show_distributions(student_distributions)"
   ]
  },
  {
   "cell_type": "code",
   "execution_count": 8,
   "metadata": {},
   "outputs": [
    {
     "data": {
      "image/png": "[encoded data removed]",
      "text/plain": [
       "<matplotlib.figure.Figure at 0x107b62320>"
      ]
     },
     "metadata": {},
     "output_type": "display_data"
    }
   ],
   "source": [
    "fig, axes = plt.subplots(4, 1)\n",
    "for i, ax in enumerate(axes.flat):\n",
    "    ax.hist(student_distributions[i])\n",
    "    ax.axis([8.75, 9.4, 0, 11])"
   ]
  },
  {
   "cell_type": "code",
   "execution_count": 9,
   "metadata": {},
   "outputs": [
    {
     "data": {
      "text/plain": [
       "(160,)"
      ]
     },
     "execution_count": 9,
     "metadata": {},
     "output_type": "execute_result"
    }
   ],
   "source": [
    "psycho_repeats = np.concatenate(student_distributions)\n",
    "psycho_repeats.shape"
   ]
  },
  {
   "cell_type": "code",
   "execution_count": 10,
   "metadata": {},
   "outputs": [
    {
     "data": {
      "text/plain": [
       "<matplotlib.image.AxesImage at 0x107f676a0>"
      ]
     },
     "execution_count": 10,
     "metadata": {},
     "output_type": "execute_result"
    },
    {
     "data": {
      "image/png": "[encoded data removed]",
      "text/plain": [
       "<matplotlib.figure.Figure at 0x107b622e8>"
      ]
     },
     "metadata": {},
     "output_type": "display_data"
    }
   ],
   "source": [
    "N = len(psycho_repeats)\n",
    "X = np.zeros((N, 2))\n",
    "X[:n_per_student * 2, 0] = 1\n",
    "X[n_per_student * 2:, 1] = 1\n",
    "plt.imshow(X, cmap='gray', aspect=0.1)"
   ]
  },
  {
   "cell_type": "code",
   "execution_count": 11,
   "metadata": {
    "collapsed": true
   },
   "outputs": [],
   "source": [
    "# Get t distribution code from scipy library\n",
    "from scipy.stats import t as t_dist"
   ]
  },
  {
   "cell_type": "code",
   "execution_count": 12,
   "metadata": {
    "collapsed": true
   },
   "outputs": [],
   "source": [
    "def t_stat(y, X, c):\n",
    "    \"\"\" betas, t statistic and significance test given data, design matrix, contrast\n",
    "\n",
    "    This is OLS estimation; we assume the errors to have independent\n",
    "    and identical normal distributions around zero for each $i$ in\n",
    "    $\\e_i$ (i.i.d).\n",
    "    \"\"\"\n",
    "    # Make sure y, X, c are all arrays\n",
    "    y = np.asarray(y)\n",
    "    X = np.asarray(X)\n",
    "    c = np.atleast_2d(c).T  # As column vector\n",
    "    # Calculate the parameters - b hat\n",
    "    beta = npl.pinv(X).dot(y)\n",
    "    # The fitted values - y hat\n",
    "    fitted = X.dot(beta)\n",
    "    # Residual error\n",
    "    errors = y - fitted\n",
    "    # Residual sum of squares\n",
    "    RSS = (errors**2).sum(axis=0)\n",
    "    # Degrees of freedom is the number of observations n minus the number\n",
    "    # of independent regressors we have used.  If all the regressor\n",
    "    # columns in X are independent then the (matrix rank of X) == p\n",
    "    # (where p the number of columns in X). If there is one column that\n",
    "    # can be expressed as a linear sum of the other columns then\n",
    "    # (matrix rank of X) will be p - 1 - and so on.\n",
    "    df = X.shape[0] - npl.matrix_rank(X)\n",
    "    # Mean residual sum of squares\n",
    "    MRSS = RSS / df\n",
    "    # calculate bottom half of t statistic\n",
    "    SE = np.sqrt(MRSS * c.T.dot(npl.pinv(X.T.dot(X)).dot(c)))\n",
    "    t = c.T.dot(beta) / SE\n",
    "    # Get p value for t value using cumulative density dunction\n",
    "    # (CDF) of t distribution\n",
    "    ltp = t_dist.cdf(t, df) # lower tail p\n",
    "    p = 1 - ltp # upper tail p\n",
    "    return beta, t, df, p"
   ]
  },
  {
   "cell_type": "code",
   "execution_count": 13,
   "metadata": {},
   "outputs": [
    {
     "data": {
      "text/plain": [
       "(array([ 9.044,  9.124]), array([[ 3.508]]), 158, array([[ 0.]]))"
      ]
     },
     "execution_count": 13,
     "metadata": {},
     "output_type": "execute_result"
    }
   ],
   "source": [
    "t_stat(psycho_repeats, X, [-1, 1])"
   ]
  }
 ],
 "metadata": {
  "kernelspec": {
   "display_name": "Python 3",
   "language": "python",
   "name": "python3"
  },
  "language_info": {
   "codemirror_mode": {
    "name": "ipython",
    "version": 3
   },
   "file_extension": ".py",
   "mimetype": "text/x-python",
   "name": "python",
   "nbconvert_exporter": "python",
   "pygments_lexer": "ipython3",
   "version": "3.5.1"
  }
 },
 "nbformat": 4,
 "nbformat_minor": 2
}
