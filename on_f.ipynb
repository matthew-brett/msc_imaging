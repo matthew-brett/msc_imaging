{
 "cells": [
  {
   "cell_type": "markdown",
   "metadata": {},
   "source": [
    "# General linear model and F tests"
   ]
  },
  {
   "cell_type": "markdown",
   "metadata": {},
   "source": [
    "See also: https://bic-berkeley.github.io/psych-214-fall-2016/hypothesis_tests.html"
   ]
  },
  {
   "cell_type": "code",
   "execution_count": 1,
   "metadata": {},
   "outputs": [],
   "source": [
    "# Import numerical and plotting libraries\n",
    "import numpy as np\n",
    "import numpy.linalg as npl\n",
    "import matplotlib.pyplot as plt\n",
    "# Only show 6 decimals when printing\n",
    "np.set_printoptions(precision=6)"
   ]
  },
  {
   "cell_type": "code",
   "execution_count": 2,
   "metadata": {
    "collapsed": true
   },
   "outputs": [],
   "source": [
    "%matplotlib inline"
   ]
  },
  {
   "cell_type": "markdown",
   "metadata": {},
   "source": [
    "These two lists of numbers are from the GLM intro notebook:"
   ]
  },
  {
   "cell_type": "code",
   "execution_count": 3,
   "metadata": {
    "collapsed": true
   },
   "outputs": [],
   "source": [
    "psychopathy = [11.416,   4.514,  12.204,  14.835,\n",
    "                8.416,   6.563,  17.343, 13.02,\n",
    "               15.19 ,  11.902,  22.721,  22.324]"
   ]
  },
  {
   "cell_type": "code",
   "execution_count": 4,
   "metadata": {
    "collapsed": true
   },
   "outputs": [],
   "source": [
    "clammy = [0.389,  0.2  ,  0.241,  0.463,\n",
    "          4.585,  1.097,  1.642,  4.972,\n",
    "          7.957,  5.585,  5.527,  6.964]"
   ]
  },
  {
   "cell_type": "markdown",
   "metadata": {},
   "source": [
    "Let's first check what R gives us for this simple regression model (you will need R installed for this):"
   ]
  },
  {
   "cell_type": "markdown",
   "metadata": {},
   "source": [
    "```\n",
    "# This is code to copy-paste into R\n",
    "psychopathy <- c(11.416,   4.514,  12.204,  14.835, 8.416,   6.563,  17.343,\n",
    "                13.02, 15.19 ,  11.902,  22.721,  22.324)\n",
    "clammy = c(0.389,  0.2  ,  0.241,  0.463, 4.585,  1.097,  1.642,  4.972,\n",
    "           7.957,  5.585,  5.527,  6.964)\n",
    "\n",
    "simple_regression = lm(psychopathy ~ clammy)\n",
    "print(summary(simple_regression))\n",
    "```"
   ]
  },
  {
   "cell_type": "markdown",
   "metadata": {},
   "source": [
    "Here are the utilities to show the design matrix graphically, from the GLM intro:"
   ]
  },
  {
   "cell_type": "code",
   "execution_count": 5,
   "metadata": {
    "collapsed": true
   },
   "outputs": [],
   "source": [
    "def scale_design_mtx(X):\n",
    "    \"\"\"utility to scale the design matrix for display\n",
    "\n",
    "    This scales the columns to their own range so we can see the variations\n",
    "    across the column for all the columns, regardless of the scaling of the\n",
    "    column.\n",
    "    \"\"\"\n",
    "    mi, ma = X.min(axis=0), X.max(axis=0)\n",
    "    # Vector that is True for columns where values are not\n",
    "    # all almost equal to each other\n",
    "    col_neq = (ma - mi) > 1.e-8\n",
    "    Xs = np.ones_like(X)\n",
    "    # Leave columns with same value throughout with 1s\n",
    "    # Scale other columns to min, max in column\n",
    "    mi = mi[col_neq]\n",
    "    ma = ma[col_neq]\n",
    "    Xs[:,col_neq] = (X[:,col_neq] - mi)/(ma - mi)\n",
    "    return Xs"
   ]
  },
  {
   "cell_type": "code",
   "execution_count": 6,
   "metadata": {
    "collapsed": true
   },
   "outputs": [],
   "source": [
    "def show_design(X, design_title):\n",
    "    \"\"\" Show the design matrix nicely \"\"\"\n",
    "    plt.imshow(scale_design_mtx(X),\n",
    "               interpolation='nearest',\n",
    "               cmap='gray') # Gray colormap\n",
    "    plt.title(design_title)"
   ]
  },
  {
   "cell_type": "markdown",
   "metadata": {},
   "source": [
    "Remember, the first four students were from Berkeley, the second group of four were from Stanford, and the third group were from MIT."
   ]
  },
  {
   "cell_type": "markdown",
   "metadata": {},
   "source": [
    "$$\n",
    "\\newcommand{Xmat}{\\boldsymbol X}\n",
    "$$\n",
    "The F test needs a *full model* and a *reduced model*.  Call the full model $\\Xmat_f$ and the reduced model $\\Xmat_r$.  The formula for the F test is:\n",
    "\n",
    "$$\n",
    "F_{\\nu_1, \\nu_2} =\n",
    "    \\frac{\n",
    "    (\\textrm{SSR}(\\Xmat_r) - \\textrm{SSR}(\\Xmat_f)) / \\nu_1}\n",
    "    {\\textrm{SSR}(\\Xmat_f) / \\nu_2}\n",
    "$$\n",
    "\n",
    "where $\\nu_1$ is called the *numerator degrees of freedom*, and $\\nu_2$ is the *denominator degrees of freedom* or the *degrees of freedom of the error*.\n",
    "\n",
    "$\\nu_2$ is also the degrees of freedom for the full model.  $\\nu_1$ is given by $d - \\nu_2$ where $d$ is the degrees of freedom from the reduced model."
   ]
  },
  {
   "cell_type": "markdown",
   "metadata": {},
   "source": [
    "First, let's see what R does:"
   ]
  },
  {
   "cell_type": "markdown",
   "metadata": {},
   "source": [
    "```\n",
    "# R script for one-way ANOVA F test\n",
    "psychopathy <- c(11.416,   4.514,  12.204,  14.835, 8.416,   6.563,  17.343,\n",
    "                13.02, 15.19 ,  11.902,  22.721,  22.324)\n",
    "\n",
    "university <- factor(c(rep('Berkeley', 4),\n",
    "                       rep('Stanford', 4),\n",
    "                       rep('MIT', 4)))\n",
    "\n",
    "one_way_anova = lm(psychopathy ~ university)\n",
    "print(summary(one_way_anova))\n",
    "```"
   ]
  },
  {
   "cell_type": "markdown",
   "metadata": {},
   "source": [
    "And now, an F test, the traditional way.\n",
    "\n",
    "This is the standard F test you may be used to, for a one-way analysis of variance.\n",
    "\n",
    "The reduced model is a model that just has the mean for all the observations, independent of group (university).\n",
    "\n",
    "The full model allows each group (university) to have its own mean.  The F test looks at the reduction in variance when we include the group means into the model."
   ]
  },
  {
   "cell_type": "code",
   "execution_count": 7,
   "metadata": {},
   "outputs": [
    {
     "data": {
      "text/plain": [
       "13.370666666666667"
      ]
     },
     "execution_count": 7,
     "metadata": {},
     "output_type": "execute_result"
    }
   ],
   "source": [
    "overall_mean = np.mean(psychopathy)\n",
    "overall_mean"
   ]
  },
  {
   "cell_type": "code",
   "execution_count": 8,
   "metadata": {},
   "outputs": [
    {
     "data": {
      "text/plain": [
       "array([-1.954667, -8.856667, -1.166667,  1.464333, -4.954667, -6.807667,\n",
       "        3.972333, -0.350667,  1.819333, -1.468667,  9.350333,  8.953333])"
      ]
     },
     "execution_count": 8,
     "metadata": {},
     "output_type": "execute_result"
    }
   ],
   "source": [
    "overall_mean_corrected = psychopathy - overall_mean\n",
    "overall_mean_corrected"
   ]
  },
  {
   "cell_type": "code",
   "execution_count": 9,
   "metadata": {
    "collapsed": true
   },
   "outputs": [],
   "source": [
    "# What do you think this will be?\n",
    "# np.mean(overall_mean_corrected)"
   ]
  },
  {
   "cell_type": "code",
   "execution_count": 10,
   "metadata": {},
   "outputs": [
    {
     "data": {
      "text/plain": [
       "(10.74225, 11.3355, 18.03425)"
      ]
     },
     "execution_count": 10,
     "metadata": {},
     "output_type": "execute_result"
    }
   ],
   "source": [
    "berkeley_mean = np.mean(psychopathy[:4])\n",
    "stanford_mean = np.mean(psychopathy[4:8])\n",
    "mit_mean = np.mean(psychopathy[8:])\n",
    "berkeley_mean, stanford_mean, mit_mean"
   ]
  },
  {
   "cell_type": "code",
   "execution_count": 11,
   "metadata": {},
   "outputs": [
    {
     "data": {
      "text/plain": [
       "array([ 0.67375, -6.22825,  1.46175,  4.09275, -2.9195 , -4.7725 ,\n",
       "        6.0075 ,  1.6845 , -2.84425, -6.13225,  4.68675,  4.28975])"
      ]
     },
     "execution_count": 11,
     "metadata": {},
     "output_type": "execute_result"
    }
   ],
   "source": [
    "# Subtract the matching group mean from each row\n",
    "group_mean_corrected = np.array(psychopathy).copy()\n",
    "group_mean_corrected[:4] = group_mean_corrected[:4] - berkeley_mean\n",
    "group_mean_corrected[4:8] = group_mean_corrected[4:8] - stanford_mean\n",
    "group_mean_corrected[8:] = group_mean_corrected[8:] - mit_mean\n",
    "group_mean_corrected"
   ]
  },
  {
   "cell_type": "code",
   "execution_count": 12,
   "metadata": {},
   "outputs": [
    {
     "data": {
      "text/plain": [
       "(214.42201450000005, 345.61996266666671)"
      ]
     },
     "execution_count": 12,
     "metadata": {},
     "output_type": "execute_result"
    }
   ],
   "source": [
    "SSR_full = np.sum(group_mean_corrected ** 2)\n",
    "SSR_reduced = np.sum(overall_mean_corrected ** 2)\n",
    "SSR_full, SSR_reduced"
   ]
  },
  {
   "cell_type": "code",
   "execution_count": 13,
   "metadata": {},
   "outputs": [
    {
     "data": {
      "text/plain": [
       "2.75340555925054"
      ]
     },
     "execution_count": 13,
     "metadata": {},
     "output_type": "execute_result"
    }
   ],
   "source": [
    "N = len(psychopathy)\n",
    "df_error = N - 3\n",
    "df_extra = 3 - 1\n",
    "F_top = (SSR_reduced - SSR_full) / df_extra\n",
    "F_bottom = SSR_full / df_error\n",
    "F_stat = F_top / F_bottom\n",
    "F_stat"
   ]
  },
  {
   "cell_type": "code",
   "execution_count": 14,
   "metadata": {},
   "outputs": [
    {
     "data": {
      "image/png": "[encoded data removed]",
      "text/plain": [
       "<matplotlib.figure.Figure at 0x107b6beb8>"
      ]
     },
     "metadata": {},
     "output_type": "display_data"
    }
   ],
   "source": [
    "# Back to the old model\n",
    "X_full = np.zeros((N, 3))\n",
    "X_full[:4, 0] = 1  # Berkeley indicator is first column\n",
    "X_full[4:8, 1] = 1  # Stanford indicator is second column\n",
    "X_full[8:, 2] = 1  # MIT indicator is third column\n",
    "show_design(X_full, 'Group mean')"
   ]
  },
  {
   "cell_type": "code",
   "execution_count": 15,
   "metadata": {},
   "outputs": [
    {
     "data": {
      "text/plain": [
       "array([ 10.74225,  11.3355 ,  18.03425])"
      ]
     },
     "execution_count": 15,
     "metadata": {},
     "output_type": "execute_result"
    }
   ],
   "source": [
    "B_full = npl.pinv(X_full).dot(psychopathy)\n",
    "B_full"
   ]
  },
  {
   "cell_type": "code",
   "execution_count": 16,
   "metadata": {},
   "outputs": [
    {
     "data": {
      "text/plain": [
       "array([ 0.67375, -6.22825,  1.46175,  4.09275, -2.9195 , -4.7725 ,\n",
       "        6.0075 ,  1.6845 , -2.84425, -6.13225,  4.68675,  4.28975])"
      ]
     },
     "execution_count": 16,
     "metadata": {},
     "output_type": "execute_result"
    }
   ],
   "source": [
    "full_fitted = X_full.dot(B_full)\n",
    "full_residuals = psychopathy - full_fitted\n",
    "full_residuals"
   ]
  },
  {
   "cell_type": "code",
   "execution_count": 17,
   "metadata": {},
   "outputs": [
    {
     "data": {
      "text/plain": [
       "array([[ 1.],\n",
       "       [ 1.],\n",
       "       [ 1.],\n",
       "       [ 1.],\n",
       "       [ 1.],\n",
       "       [ 1.],\n",
       "       [ 1.],\n",
       "       [ 1.],\n",
       "       [ 1.],\n",
       "       [ 1.],\n",
       "       [ 1.],\n",
       "       [ 1.]])"
      ]
     },
     "execution_count": 17,
     "metadata": {},
     "output_type": "execute_result"
    }
   ],
   "source": [
    "# The reduced design - the overall mean\n",
    "X_reduced = np.ones((N, 1))\n",
    "X_reduced"
   ]
  },
  {
   "cell_type": "code",
   "execution_count": 18,
   "metadata": {},
   "outputs": [
    {
     "data": {
      "text/plain": [
       "array([ 13.370667])"
      ]
     },
     "execution_count": 18,
     "metadata": {},
     "output_type": "execute_result"
    }
   ],
   "source": [
    "B_reduced = npl.pinv(X_reduced).dot(psychopathy)\n",
    "B_reduced"
   ]
  },
  {
   "cell_type": "code",
   "execution_count": 19,
   "metadata": {},
   "outputs": [
    {
     "data": {
      "text/plain": [
       "array([-1.954667, -8.856667, -1.166667,  1.464333, -4.954667, -6.807667,\n",
       "        3.972333, -0.350667,  1.819333, -1.468667,  9.350333,  8.953333])"
      ]
     },
     "execution_count": 19,
     "metadata": {},
     "output_type": "execute_result"
    }
   ],
   "source": [
    "reduced_fitted = X_reduced.dot(B_reduced)\n",
    "reduced_residuals = psychopathy - reduced_fitted\n",
    "reduced_residuals"
   ]
  },
  {
   "cell_type": "code",
   "execution_count": 20,
   "metadata": {},
   "outputs": [
    {
     "data": {
      "text/plain": [
       "(214.42201450000005, 345.61996266666665)"
      ]
     },
     "execution_count": 20,
     "metadata": {},
     "output_type": "execute_result"
    }
   ],
   "source": [
    "GLM_SSR_full = np.sum(full_residuals ** 2)\n",
    "GLM_SSR_reduced = np.sum(reduced_residuals ** 2)\n",
    "GLM_SSR_full, GLM_SSR_reduced"
   ]
  },
  {
   "cell_type": "markdown",
   "metadata": {},
   "source": [
    "OK - now the same thing with the original clammy model:"
   ]
  },
  {
   "cell_type": "code",
   "execution_count": 21,
   "metadata": {},
   "outputs": [
    {
     "data": {
      "image/png": "[encoded data removed]",
      "text/plain": [
       "<matplotlib.figure.Figure at 0x107b6a9b0>"
      ]
     },
     "metadata": {},
     "output_type": "display_data"
    }
   ],
   "source": [
    "X_regression_full = np.column_stack((np.ones(12), clammy))\n",
    "show_design(X_regression_full, 'Simple regression')"
   ]
  },
  {
   "cell_type": "code",
   "execution_count": 22,
   "metadata": {},
   "outputs": [
    {
     "data": {
      "text/plain": [
       "array([ 10.071286,   0.999257])"
      ]
     },
     "execution_count": 22,
     "metadata": {},
     "output_type": "execute_result"
    }
   ],
   "source": [
    "B_regression_full = npl.pinv(X_regression_full).dot(psychopathy)\n",
    "B_regression_full"
   ]
  },
  {
   "cell_type": "code",
   "execution_count": 23,
   "metadata": {},
   "outputs": [
    {
     "data": {
      "text/plain": [
       "array([ 0.956003, -5.757137,  1.891893,  4.301058, -6.23688 , -4.604471,\n",
       "        5.630934, -2.019593, -2.832376, -3.750137,  7.126819,  5.293887])"
      ]
     },
     "execution_count": 23,
     "metadata": {},
     "output_type": "execute_result"
    }
   ],
   "source": [
    "fitted_regression_full = X_regression_full.dot(B_regression_full)\n",
    "residuals_regression_full = psychopathy - fitted_regression_full\n",
    "residuals_regression_full"
   ]
  },
  {
   "cell_type": "code",
   "execution_count": 24,
   "metadata": {},
   "outputs": [
    {
     "data": {
      "text/plain": [
       "3.664886189966519"
      ]
     },
     "execution_count": 24,
     "metadata": {},
     "output_type": "execute_result"
    }
   ],
   "source": [
    "SSR_regression_full = np.sum(residuals_regression_full ** 2)\n",
    "F_top = (SSR_reduced - SSR_regression_full) / 1\n",
    "F_bottom = SSR_regression_full / (N - 2)\n",
    "F_stat = F_top / F_bottom\n",
    "F_stat"
   ]
  }
 ],
 "metadata": {
  "kernelspec": {
   "display_name": "Python 3",
   "language": "python",
   "name": "python3"
  },
  "language_info": {
   "codemirror_mode": {
    "name": "ipython",
    "version": 3
   },
   "file_extension": ".py",
   "mimetype": "text/x-python",
   "name": "python",
   "nbconvert_exporter": "python",
   "pygments_lexer": "ipython3",
   "version": "3.5.1"
  }
 },
 "nbformat": 4,
 "nbformat_minor": 2
}
