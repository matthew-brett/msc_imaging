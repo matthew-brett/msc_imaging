{
 "cells": [
  {
   "cell_type": "code",
   "execution_count": 27,
   "metadata": {
    "collapsed": true
   },
   "outputs": [],
   "source": [
    "# Import numerical and plotting libraries\n",
    "import numpy as np\n",
    "import numpy.linalg as npl\n",
    "import matplotlib.pyplot as plt\n",
    "# Only show 6 decimals when printing\n",
    "np.set_printoptions(precision=4)"
   ]
  },
  {
   "cell_type": "code",
   "execution_count": 28,
   "metadata": {
    "collapsed": true
   },
   "outputs": [],
   "source": [
    "%matplotlib inline"
   ]
  },
  {
   "cell_type": "markdown",
   "metadata": {},
   "source": [
    "Remember our scores of “psychopathy” from the 12 students:"
   ]
  },
  {
   "cell_type": "code",
   "execution_count": 29,
   "metadata": {
    "collapsed": true
   },
   "outputs": [],
   "source": [
    "psychopathy = [11.416,   4.514,  12.204,  14.835,\n",
    "               8.416,   6.563,  17.343, 13.02,\n",
    "               15.19 ,  11.902,  22.721,  22.324]"
   ]
  },
  {
   "cell_type": "markdown",
   "metadata": {},
   "source": [
    "We found out these were students from Berkeley, Stanford and MIT."
   ]
  },
  {
   "cell_type": "markdown",
   "metadata": {},
   "source": [
    "Now let's say we have two students from Birmingham and two from Cambridge (that's Birmingham and Cambridge UK, AKA *actual Birmingham* and *actual Cambridge*).\n",
    "\n",
    "Last time we just had one measurement of the psychopathy score, but this time we have 40 measurements for each student - we did the questionnaire score every week for 40 weeks.  Here's are the Birmingham student scores:"
   ]
  },
  {
   "cell_type": "code",
   "execution_count": 30,
   "metadata": {
    "collapsed": true
   },
   "outputs": [],
   "source": [
    "brum_0 = [9.25, 9.19, 9.26, 9.35, 9.18, 9.18, 9.36, 9.28, 9.15, 9.25, 9.15,\n",
    "          9.15, 9.22, 9.01, 9.03, 9.14, 9.1, 9.23, 9.11, 9.06, 9.35, 9.18,\n",
    "          9.21, 9.06, 9.15, 9.21, 9.08, 9.24, 9.14, 9.17, 9.14, 9.39, 9.2,\n",
    "          9.09, 9.28, 9.08, 9.22, 9.0, 9.07, 9.22]\n",
    "brum_1 = [8.94, 8.91, 8.89, 8.88, 8.83, 8.86, 8.88, 8.95, 8.92, 8.81, 8.92,\n",
    "          8.88, 8.87, 8.93, 8.95, 8.95, 8.86, 8.88, 8.92, 8.95, 8.88, 8.89,\n",
    "          8.84, 8.84, 8.94, 8.97, 8.9, 8.95, 8.92, 8.87, 8.92, 8.98, 8.9,\n",
    "          8.98, 8.77, 8.94, 8.9, 8.89, 8.9, 8.8]"
   ]
  },
  {
   "cell_type": "markdown",
   "metadata": {},
   "source": [
    "Here are the scores for the two Cambridge students:"
   ]
  },
  {
   "cell_type": "code",
   "execution_count": 31,
   "metadata": {
    "collapsed": true
   },
   "outputs": [],
   "source": [
    "cam_0 = [8.98, 9.03, 9.11, 8.96, 8.94, 8.96, 9.07, 9.02, 8.96, 9.04, 9.01,\n",
    "         9.07, 8.95, 8.98, 8.97, 8.89, 9.02, 9.02, 9.0, 8.98, 8.89, 8.97,\n",
    "         8.97, 8.94, 8.99, 9.03, 9.14, 9.01, 9.02, 8.99, 8.86, 9.0, 9.0, 9.18,\n",
    "         8.99, 9.02, 9.0, 8.91, 9.09, 9.06]\n",
    "cam_1 = [9.37, 9.11, 9.46, 9.04, 9.34, 9.58, 9.1, 9.17, 9.26, 9.17, 9.02,\n",
    "         9.26, 9.09, 9.32, 9.11, 9.48, 9.13, 9.2, 9.37, 9.07, 9.28, 9.45,\n",
    "         9.01, 9.28, 9.29, 9.37, 9.06, 9.05, 9.33, 9.29, 9.29, 9.3, 9.15,\n",
    "         9.28, 9.29, 9.14, 9.53, 9.32, 9.07, 9.35]"
   ]
  },
  {
   "cell_type": "markdown",
   "metadata": {},
   "source": [
    "We can do a histogram of these scores one under the other, first the Birmingham students, then the Cambridge students."
   ]
  },
  {
   "cell_type": "code",
   "execution_count": 32,
   "metadata": {},
   "outputs": [
    {
     "data": {
      "image/png": "[encoded data removed]",
      "text/plain": [
       "<matplotlib.figure.Figure at 0x10975afd0>"
      ]
     },
     "metadata": {},
     "output_type": "display_data"
    }
   ],
   "source": [
    "# Make four plots one under the other\n",
    "fig, axes = plt.subplots(4, 1)\n",
    "axes[0].hist(brum_0)\n",
    "axes[1].hist(brum_1)\n",
    "axes[2].hist(cam_0)\n",
    "axes[3].hist(cam_1)\n",
    "axes[3].set_xlabel('Psychopathy')\n",
    "# Make sure the axes are the same for each plot\n",
    "for ax in axes:\n",
    "    ax.axis([8.75, 9.4, 0, 11])"
   ]
  },
  {
   "cell_type": "markdown",
   "metadata": {},
   "source": [
    "Do you think there is a significant difference in psychopathy between Birmingham students and Cambridge students?"
   ]
  },
  {
   "cell_type": "markdown",
   "metadata": {},
   "source": [
    "We can use the machinery from the GLM introduction to do a t-test on these values."
   ]
  },
  {
   "cell_type": "markdown",
   "metadata": {},
   "source": [
    "First we concatenate the data from all four students into one long vector:"
   ]
  },
  {
   "cell_type": "code",
   "execution_count": 33,
   "metadata": {},
   "outputs": [
    {
     "data": {
      "text/plain": [
       "160"
      ]
     },
     "execution_count": 33,
     "metadata": {},
     "output_type": "execute_result"
    }
   ],
   "source": [
    "psycho_repeats = np.concatenate([brum_0, brum_1, cam_0, cam_1])\n",
    "len(psycho_repeats)"
   ]
  },
  {
   "cell_type": "markdown",
   "metadata": {},
   "source": [
    "Next we make a design matrix for our General Linear Model.  We have two dummy variables, and therefore two columns in the design matrix:"
   ]
  },
  {
   "cell_type": "code",
   "execution_count": 34,
   "metadata": {
    "collapsed": true
   },
   "outputs": [],
   "source": [
    "# Make an empty design matrix\n",
    "N = len(psycho_repeats)\n",
    "X = np.zeros((N, 2))"
   ]
  },
  {
   "cell_type": "markdown",
   "metadata": {},
   "source": [
    "The first column indicates whether the psychopathy score is from a Birmingham student or not.  There is a 1 corresponding to a value for a Birmingham student, and 0 otherwise:"
   ]
  },
  {
   "cell_type": "code",
   "execution_count": 35,
   "metadata": {
    "collapsed": true
   },
   "outputs": [],
   "source": [
    "# First column (0) indicates Birmingham student value\n",
    "X[:80, 0] = 1"
   ]
  },
  {
   "cell_type": "markdown",
   "metadata": {},
   "source": [
    "The second column indicates whether the score is from a Cambridge student or not:"
   ]
  },
  {
   "cell_type": "code",
   "execution_count": 36,
   "metadata": {
    "collapsed": true
   },
   "outputs": [],
   "source": [
    "# Second column (1) indicates Cambridge student value\n",
    "X[80:, 1] = 1"
   ]
  },
  {
   "cell_type": "markdown",
   "metadata": {},
   "source": [
    "Let's have a look at the design matrix:"
   ]
  },
  {
   "cell_type": "code",
   "execution_count": 37,
   "metadata": {},
   "outputs": [
    {
     "data": {
      "text/plain": [
       "<matplotlib.image.AxesImage at 0x107ead470>"
      ]
     },
     "execution_count": 37,
     "metadata": {},
     "output_type": "execute_result"
    },
    {
     "data": {
      "image/png": "[encoded data removed]",
      "text/plain": [
       "<matplotlib.figure.Figure at 0x109760978>"
      ]
     },
     "metadata": {},
     "output_type": "display_data"
    }
   ],
   "source": [
    "# Show design in grayscale\n",
    "plt.imshow(X, cmap='gray', aspect=0.1)"
   ]
  },
  {
   "cell_type": "markdown",
   "metadata": {},
   "source": [
    "You might remember that, when we fit this model in the simplest least-squares way, the parameters are the means for the Birmingham and Cambridge values:"
   ]
  },
  {
   "cell_type": "code",
   "execution_count": 38,
   "metadata": {},
   "outputs": [
    {
     "data": {
      "text/plain": [
       "array([ 9.0386,  9.1225])"
      ]
     },
     "execution_count": 38,
     "metadata": {},
     "output_type": "execute_result"
    }
   ],
   "source": [
    "y = psycho_repeats\n",
    "B = np.linalg.pinv(X).dot(y)\n",
    "B"
   ]
  },
  {
   "cell_type": "code",
   "execution_count": 39,
   "metadata": {},
   "outputs": [
    {
     "data": {
      "text/plain": [
       "9.0386249999999997"
      ]
     },
     "execution_count": 39,
     "metadata": {},
     "output_type": "execute_result"
    }
   ],
   "source": [
    "np.mean(brum_0 + brum_1)"
   ]
  },
  {
   "cell_type": "code",
   "execution_count": 40,
   "metadata": {},
   "outputs": [
    {
     "data": {
      "text/plain": [
       "9.1224999999999987"
      ]
     },
     "execution_count": 40,
     "metadata": {},
     "output_type": "execute_result"
    }
   ],
   "source": [
    "np.mean(cam_0 + cam_1)"
   ]
  },
  {
   "cell_type": "markdown",
   "metadata": {},
   "source": [
    "Remember the t-test from the GLM page?"
   ]
  },
  {
   "cell_type": "code",
   "execution_count": 41,
   "metadata": {
    "collapsed": true
   },
   "outputs": [],
   "source": [
    "# Get t distribution code from scipy library\n",
    "from scipy.stats import t as t_dist"
   ]
  },
  {
   "cell_type": "code",
   "execution_count": 42,
   "metadata": {
    "collapsed": true
   },
   "outputs": [],
   "source": [
    "def t_stat(y, X, c):\n",
    "    \"\"\" betas, t statistic and significance test given data, design matrix, contrast\n",
    "\n",
    "    This is OLS estimation; we assume the errors to have independent\n",
    "    and identical normal distributions around zero for each $i$ in\n",
    "    $\\e_i$ (i.i.d).\n",
    "    \"\"\"\n",
    "    # Make sure y, X, c are all arrays\n",
    "    y = np.asarray(y)\n",
    "    X = np.asarray(X)\n",
    "    c = np.atleast_2d(c).T  # As column vector\n",
    "    # Calculate the parameters - b hat\n",
    "    beta = npl.pinv(X).dot(y)\n",
    "    # The fitted values - y hat\n",
    "    fitted = X.dot(beta)\n",
    "    # Residual error\n",
    "    errors = y - fitted\n",
    "    # Residual sum of squares\n",
    "    RSS = (errors**2).sum(axis=0)\n",
    "    # Degrees of freedom is the number of observations n minus the number\n",
    "    # of independent regressors we have used.  If all the regressor\n",
    "    # columns in X are independent then the (matrix rank of X) == p\n",
    "    # (where p the number of columns in X). If there is one column that\n",
    "    # can be expressed as a linear sum of the other columns then\n",
    "    # (matrix rank of X) will be p - 1 - and so on.\n",
    "    df = X.shape[0] - npl.matrix_rank(X)\n",
    "    # Mean residual sum of squares\n",
    "    MRSS = RSS / df\n",
    "    # calculate bottom half of t statistic\n",
    "    SE = np.sqrt(MRSS * c.T.dot(npl.pinv(X.T.dot(X)).dot(c)))\n",
    "    t = c.T.dot(beta) / SE\n",
    "    # Get p value for t value using cumulative density dunction\n",
    "    # (CDF) of t distribution\n",
    "    ltp = t_dist.cdf(t, df) # lower tail p\n",
    "    p = 1 - ltp # upper tail p\n",
    "    return beta, t, df, p"
   ]
  },
  {
   "cell_type": "markdown",
   "metadata": {},
   "source": [
    "Here is a t-test, testing the null hypothesis that the mean of the Birmingham psychopathy values is the same as mean of the Cambridge psychopathy values:"
   ]
  },
  {
   "cell_type": "code",
   "execution_count": 43,
   "metadata": {},
   "outputs": [
    {
     "data": {
      "text/plain": [
       "array([ 9.0386,  9.1225])"
      ]
     },
     "execution_count": 43,
     "metadata": {},
     "output_type": "execute_result"
    }
   ],
   "source": [
    "betas, t_value, df, p_value = t_stat(y, X, [-1, 1])\n",
    "betas"
   ]
  },
  {
   "cell_type": "code",
   "execution_count": 44,
   "metadata": {},
   "outputs": [
    {
     "data": {
      "text/plain": [
       "array([[ 3.2507]])"
      ]
     },
     "execution_count": 44,
     "metadata": {},
     "output_type": "execute_result"
    }
   ],
   "source": [
    "t_value"
   ]
  },
  {
   "cell_type": "code",
   "execution_count": 45,
   "metadata": {},
   "outputs": [
    {
     "data": {
      "text/plain": [
       "158"
      ]
     },
     "execution_count": 45,
     "metadata": {},
     "output_type": "execute_result"
    }
   ],
   "source": [
    "df"
   ]
  },
  {
   "cell_type": "code",
   "execution_count": 46,
   "metadata": {},
   "outputs": [
    {
     "data": {
      "text/plain": [
       "array([[ 0.0007]])"
      ]
     },
     "execution_count": 46,
     "metadata": {},
     "output_type": "execute_result"
    }
   ],
   "source": [
    "p_value"
   ]
  },
  {
   "cell_type": "markdown",
   "metadata": {},
   "source": [
    "It's highly significant.  Do you find that surprising?"
   ]
  },
  {
   "cell_type": "markdown",
   "metadata": {},
   "source": [
    "Let's do a different test.  This time I will take the mean for each student, and throw away all individual observations.  I'll refer to this as the *Random Effects* test."
   ]
  },
  {
   "cell_type": "code",
   "execution_count": 47,
   "metadata": {},
   "outputs": [
    {
     "data": {
      "text/plain": [
       "[9.1782500000000002,\n",
       " 8.8989999999999991,\n",
       " 9.0005000000000006,\n",
       " 9.2444999999999986]"
      ]
     },
     "execution_count": 47,
     "metadata": {},
     "output_type": "execute_result"
    }
   ],
   "source": [
    "y = [np.mean(brum_0), np.mean(brum_1), np.mean(cam_0), np.mean(cam_1)]\n",
    "y"
   ]
  },
  {
   "cell_type": "code",
   "execution_count": 48,
   "metadata": {},
   "outputs": [
    {
     "data": {
      "text/plain": [
       "<matplotlib.image.AxesImage at 0x107e0e518>"
      ]
     },
     "execution_count": 48,
     "metadata": {},
     "output_type": "execute_result"
    },
    {
     "data": {
      "image/png": "[encoded data removed]",
      "text/plain": [
       "<matplotlib.figure.Figure at 0x107e35e80>"
      ]
     },
     "metadata": {},
     "output_type": "display_data"
    }
   ],
   "source": [
    "N = len(y)\n",
    "X = np.zeros((N, 2))\n",
    "# Birmingham students\n",
    "X[:2, 0] = 1\n",
    "# Cambridge students\n",
    "X[2:, 1] = 1\n",
    "plt.imshow(X, cmap='gray')"
   ]
  },
  {
   "cell_type": "markdown",
   "metadata": {},
   "source": [
    "When we do the t-test, our parameters and t value are exactly the same.  Why?  (Clue - there are the same number of psychopathy values for each student)."
   ]
  },
  {
   "cell_type": "code",
   "execution_count": 49,
   "metadata": {},
   "outputs": [
    {
     "data": {
      "text/plain": [
       "array([ 9.0386,  9.1225])"
      ]
     },
     "execution_count": 49,
     "metadata": {},
     "output_type": "execute_result"
    }
   ],
   "source": [
    "re_betas, re_t_value, re_df, re_p_value = t_stat(y, X, [-1, 1])\n",
    "re_betas"
   ]
  },
  {
   "cell_type": "code",
   "execution_count": 50,
   "metadata": {},
   "outputs": [
    {
     "data": {
      "text/plain": [
       "array([[ 0.4524]])"
      ]
     },
     "execution_count": 50,
     "metadata": {},
     "output_type": "execute_result"
    }
   ],
   "source": [
    "re_t_value"
   ]
  },
  {
   "cell_type": "markdown",
   "metadata": {},
   "source": [
    "Our degrees of freedom and p value are very different:"
   ]
  },
  {
   "cell_type": "code",
   "execution_count": 25,
   "metadata": {},
   "outputs": [
    {
     "data": {
      "text/plain": [
       "2"
      ]
     },
     "execution_count": 25,
     "metadata": {},
     "output_type": "execute_result"
    }
   ],
   "source": [
    "re_df"
   ]
  },
  {
   "cell_type": "code",
   "execution_count": 26,
   "metadata": {},
   "outputs": [
    {
     "data": {
      "text/plain": [
       "array([[ 0.3477]])"
      ]
     },
     "execution_count": 26,
     "metadata": {},
     "output_type": "execute_result"
    }
   ],
   "source": [
    "re_p_value"
   ]
  },
  {
   "cell_type": "markdown",
   "metadata": {},
   "source": [
    "Which do you think is the better p-value - the original - or the random effects p value?"
   ]
  },
  {
   "cell_type": "markdown",
   "metadata": {},
   "source": [
    "We used the mean for each student, but looking at the histograms above, there seems to be some extra information in the distributions.  Some students have less spread in their psychopathy scores than others.  Therefore, the mean of their scores will be a more accurate measure of the actual (over the long term) psychopathy scores for that student.  Can we use that information somehow?"
   ]
  }
 ],
 "metadata": {
  "kernelspec": {
   "display_name": "Python 3",
   "language": "python",
   "name": "python3"
  },
  "language_info": {
   "codemirror_mode": {
    "name": "ipython",
    "version": 3
   },
   "file_extension": ".py",
   "mimetype": "text/x-python",
   "name": "python",
   "nbconvert_exporter": "python",
   "pygments_lexer": "ipython3",
   "version": "3.5.1"
  }
 },
 "nbformat": 4,
 "nbformat_minor": 2
}
